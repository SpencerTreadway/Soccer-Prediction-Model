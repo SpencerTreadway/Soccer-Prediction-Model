{
 "cells": [
  {
   "cell_type": "code",
   "execution_count": 1,
   "id": "f49d7d39",
   "metadata": {},
   "outputs": [],
   "source": [
    "# Import pandas for basic data analysis\n",
    "import pandas as pd\n",
    "# Import sqlite3 to work with .sqlite databases\n",
    "import sqlite3"
   ]
  },
  {
   "cell_type": "code",
   "execution_count": 9,
   "id": "15e40084",
   "metadata": {},
   "outputs": [],
   "source": [
    "# Establish a connection to the database\n",
    "conn = sqlite3.connect('database.sqlite')\n",
    "\n",
    "# Load each table as a pandas data frame\n",
    "matches = pd.read_sql(\"SELECT * FROM Match\", conn)\n",
    "teams = pd.read_sql(\"SELECT * FROM Team\", conn)\n",
    "team_attr = pd.read_sql(\"SELECT * FROM Team_Attributes\", conn)"
   ]
  },
  {
   "cell_type": "code",
   "execution_count": 10,
   "id": "c981c6a5",
   "metadata": {},
   "outputs": [],
   "source": [
    "# LEFT JOIN team_api_id, team_long_name ON home_team_api_id = team_api_id\n",
    "matches = matches.merge(teams[['team_api_id', 'team_long_name']], \n",
    "                        left_on='home_team_api_id',\n",
    "                        right_on='team_api_id',\n",
    "                        how='left')\n",
    "# Rename team_long_name to home_team_name and drop team_api_id\n",
    "matches = matches.rename(columns={'team_long_name': 'home_team_name'}).drop(columns=['team_api_id'])\n",
    "\n",
    "# LEFT JOIN team_api_id, team_long_name ON away_team_api_id = team_api_id\n",
    "matches = matches.merge(teams[['team_api_id', 'team_long_name']], \n",
    "                        left_on='away_team_api_id',\n",
    "                        right_on='team_api_id',\n",
    "                        how='left')\n",
    "# Rename team_long_name to away_team_name and drop team_api_id\n",
    "matches = matches.rename(columns={'team_long_name': 'away_team_name'}).drop(columns=['team_api_id'])"
   ]
  },
  {
   "cell_type": "code",
   "execution_count": 11,
   "id": "ff1dc4a3",
   "metadata": {},
   "outputs": [],
   "source": [
    "# Convert dates to datetime objects\n",
    "matches['date'] = pd.to_datetime(matches['date'], format='%Y-%m-%d %H:%M:%S')\n",
    "team_attr['date'] = pd.to_datetime(team_attr['date'], format='%Y-%m-%d %H:%M:%S')"
   ]
  },
  {
   "cell_type": "code",
   "execution_count": 12,
   "id": "8dcbeaf2",
   "metadata": {},
   "outputs": [],
   "source": [
    "# Sort team_attr for merging\n",
    "team_attr = team_attr.sort_values(['team_api_id', 'date'])"
   ]
  },
  {
   "cell_type": "code",
   "execution_count": 13,
   "id": "0041fb66",
   "metadata": {},
   "outputs": [],
   "source": [
    "# home_attr gets team_attr renamed to have home_{col_name}\n",
    "home_attr = team_attr.rename(columns=lambda x: f\"home_{x}\" if x not in ['id', 'team_api_id', 'date'] else x)\n",
    "# away_attr gets team_attr renamed to have away_{col_name}\n",
    "away_attr = team_attr.rename(columns=lambda x: f\"away_{x}\" if x not in ['id', 'team_api_id', 'date'] else x)"
   ]
  },
  {
   "cell_type": "code",
   "execution_count": 14,
   "id": "9fe67920",
   "metadata": {},
   "outputs": [],
   "source": [
    "# Join matches and home_attr on date where home_team_api_id matches team_api_id\n",
    "matches = pd.merge_asof(matches.sort_values('date'),\n",
    "                        home_attr.sort_values('date'),\n",
    "                        left_on='date',\n",
    "                        right_on='date',\n",
    "                        left_by='home_team_api_id',\n",
    "                        right_by='team_api_id',\n",
    "                        direction='backward')\n",
    "\n",
    "# Join matches and home_attr on date where home_team_api_id matches team_api_id\n",
    "matches = pd.merge_asof(matches.sort_values('date'),\n",
    "                        away_attr.sort_values('date'),\n",
    "                        left_on='date',\n",
    "                        right_on='date',\n",
    "                        left_by='away_team_api_id',\n",
    "                        right_by='team_api_id',\n",
    "                        direction='backward')"
   ]
  },
  {
   "cell_type": "code",
   "execution_count": 15,
   "id": "90e7a5c3",
   "metadata": {},
   "outputs": [],
   "source": [
    "# Create a results column that classifies a match as either a win or a loss\n",
    "matches['result'] = matches.apply(lambda x: 'HomeWin' if x['home_team_goal'] > x['away_team_goal'] else ('AwayWin' if x['home_team_goal'] < x['away_team_goal'] else 'Draw'), axis=1)"
   ]
  },
  {
   "cell_type": "code",
   "execution_count": 16,
   "id": "d6d3aa1b",
   "metadata": {},
   "outputs": [],
   "source": [
    "# Save the dataset to be used later\n",
    "matches.to_csv('dataset.csv', index=False)"
   ]
  }
 ],
 "metadata": {
  "kernelspec": {
   "display_name": "base",
   "language": "python",
   "name": "python3"
  },
  "language_info": {
   "codemirror_mode": {
    "name": "ipython",
    "version": 3
   },
   "file_extension": ".py",
   "mimetype": "text/x-python",
   "name": "python",
   "nbconvert_exporter": "python",
   "pygments_lexer": "ipython3",
   "version": "3.12.7"
  }
 },
 "nbformat": 4,
 "nbformat_minor": 5
}
